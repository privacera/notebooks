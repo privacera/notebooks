{
 "cells": [
  {
   "cell_type": "markdown",
   "metadata": {
    "id": "vM6Yo7miVSEJ"
   },
   "source": [
    "<center>\n",
    "    <p style=\"text-align:center\">\n",
    "        <img width=\"500\" height=\"120\" src=\"https://privacera.com/wp-content/uploads/2022/11/logo.png\" alt=\"Privacera\" class=\"site-logo__image entered lazyloaded\" data-lazy-src=\"https://privacera.com/wp-content/uploads/2022/11/logo.png\" data-ll-status=\"loaded\">\n",
    "        <br>\n",
    "        <a href=\"https://privacera.ai/\">Vist Us</a>\n",
    "    </p>\n",
    "</center>\n",
    "<div width=\"100%\"> <h1 style=\"text-align:center;align-self: center\">Privacera SecureChat</h1> </div>\n",
    "\n",
    "Secure Chat is a conversational AI chat bot .\n",
    "Secure chat allows users to create  conversations with an AI chat bot which can optionally  be governed by Privacera AI Governance Services(PAIG).\n",
    "Secure chat SDK/Library provides an easy to use, plugable platform which will allow developers/users to have open source chat bot SDK.\n",
    "\n",
    "\n",
    "To run this notebook you will need the following,\n",
    "\n",
    "\n",
    "1.  Sign up for a free account at [Privacera AI Governance (PAIG)](https://privacera.ai). This is simple, all you need is your email address.\n",
    "2.  OpenAI API Key. This will allow you to create your first OpenAI application governed by Privacera AI Governance. Please visit your [OpenAI account](https://platform.openai.com) to get this key."
   ]
  },
  {
   "cell_type": "markdown",
   "metadata": {
    "id": "HcshY-SCF87R"
   },
   "source": [
    "## Step 1 - Install Dependencies\n",
    "\n",
    "Install Privacera SecureChat"
   ]
  },
  {
   "cell_type": "code",
   "execution_count": null,
   "metadata": {
    "id": "SOzmjlrfF87R"
   },
   "outputs": [],
   "source": [
    "!pip install -qqq privacera_securechat --no-warn-conflicts"
   ]
  },
  {
   "cell_type": "markdown",
   "metadata": {
    "id": "faTP1gkv1ysS"
   },
   "source": [
    "# Step 2 - Upload Privacera AI application configuration file into Collab\n",
    "1. Log into your account in PAIG.\n",
    "2. To create a new application, go to `Application > AI Applications` and click the `CREATE APPLICATION` button on the right top. This will open a dialog box where you can enter the details of the application.\n",
    "3. Navigate to `Application -> AI Applications` and select the application you want to download the configuration file for. Click on the `DOWNLOAD APP CONFIG` button from the right top to download the configuration file.\n",
    "4. You will then upload the configuration file into the Collab notebook by following this step. After you run this step, click on Choose Files button and upload the AI application configuration file."
   ]
  },
  {
   "cell_type": "code",
   "execution_count": null,
   "metadata": {},
   "outputs": [],
   "source": [
    "from google.colab import files\n",
    "import shutil, os\n",
    "uploaded = files.upload()\n",
    "files = uploaded.keys()\n",
    "if len(files) > 1:\n",
    "  print(\"Upload only the application config json file\")\n",
    "else:\n",
    "  file_name = list(files)[0]\n",
    "  if file_name.endswith('.json'):\n",
    "    if not os.path.exists(\"custom-configs\"):\n",
    "      os.makedirs(\"custom-configs\")\n",
    "    shutil.move(file_name, \"custom-configs/privacera-shield-config.json\")\n",
    "  else:\n",
    "    os.remove(file_name)\n",
    "    print(\"Please upload valid json file\")"
   ]
  },
  {
   "cell_type": "markdown",
   "metadata": {
    "id": "HblpCLwAOTGA"
   },
   "source": [
    "# Step 3 - Configure your OpenAI API Key into the environment.\n",
    "Enter your OpenAI API key in the pop-up. This key is stored in the environment of the notebook and not uploaded to PAIG.\n",
    "\n",
    "Hit enter after you have pasted the key."
   ]
  },
  {
   "cell_type": "code",
   "execution_count": null,
   "metadata": {
    "id": "zcoKMzwSlO8M"
   },
   "outputs": [],
   "source": [
    "import os\n",
    "from getpass import getpass\n",
    "\n",
    "if os.environ.get(\"OPENAI_API_KEY\") is None:\n",
    "    openai_api_key = getpass(\"🔑 Enter your OpenAI API key and hit Enter:\")\n",
    "    os.environ[\"OPENAI_API_KEY\"] = openai_api_key"
   ]
  },
  {
   "cell_type": "markdown",
   "metadata": {
    "id": "Fkc2B_pQPLCT"
   },
   "source": [
    "## Step 4 - Launch Privacera SecureChat\n",
    "Your SecureChat will be started in the background with minimal setup. You can setup the PAIG Shield key to have a look into AI governance using Privacera AI."
   ]
  },
  {
   "cell_type": "code",
   "execution_count": null,
   "metadata": {
    "id": "J2GQ8Z-DPLCT"
   },
   "outputs": [],
   "source": [
    "from privacera_securechat import launcher\n",
    "session = launcher.launch_app()"
   ]
  },
  {
   "cell_type": "markdown",
   "metadata": {
    "id": "vyhIGZYlQrRJ"
   },
   "source": [
    "## Step 5 - Explore Privacera SecureChat Web UI\n",
    "\n",
    "You will be served with the embedded Web-UI of Privacera SecureChat. In the Colab mode,  you will be assigned a dedicated default login user. This might take few seconds, hang on...."
   ]
  },
  {
   "cell_type": "code",
   "execution_count": null,
   "metadata": {
    "id": "1Sq_DSpUQrRK"
   },
   "outputs": [],
   "source": [
    "launcher.active_session().view(height=800)"
   ]
  },
  {
   "cell_type": "markdown",
   "metadata": {},
   "source": [
    "## Step 6 - Stop the SecureChat instance\n",
    "You can stop the app by running the following after you're done."
   ]
  },
  {
   "cell_type": "code",
   "execution_count": null,
   "metadata": {},
   "outputs": [],
   "source": [
    "launcher.close_app()"
   ]
  },
  {
   "cell_type": "markdown",
   "metadata": {},
   "source": [
    "# Step 7 - Review the access audits in PAIG portal under Security menu option\n",
    "1. Now you can log in to the PAIG portal and check under `Security > Access Audits` section. You will see the audit record for the above run of your LangChain application.\n",
    "2. You can click on the eye icon and see the details of the prompts sent by the application to the LLM and the responses coming from the LLM.\n",
    "3. The default policy in PAIG for the application monitors the flow and tags the contents of the prompt and response."
   ]
  },
  {
   "cell_type": "markdown",
   "metadata": {},
   "source": [
    "# Step 8 - Modify the policy of your AI application\n",
    "1. Log into the PAIG portal and navigate to your application under Application section. \n",
    "2. Click on the Permissions tab and enable the 'CCPA Personal Information Redaction' policy by clicking on the toggle in the status column. This will start redacting the sensitive data in the Prompt and Reply.\n",
    "3. Wait for few seconds and re-run Step 7 above. The reply will have the Location and Person name redacted, that is, replaced by `<<LOCATION>>` and `<<PERSON>>`. You can re-run Step 7 a few more times if the above is not redaction is not reflected.\n",
    "4. Then check the access audits and you will see the original response from the LLM and how Privacera AI redacted the sensitive information out of it.\n",
    "5. You can also modify the policy by clicking on the pencil icon and change the Prompt to Allow while keeping Reply to Redact.\n",
    "6. Wait for few seconds and re-run Step 7. In the access audits, you will see that the prompt is unchanged while the response is redacted.\n",
    "7. You can change the question in Step 7 and also try changing the policy to see the effect."
   ]
  },
  {
   "cell_type": "markdown",
   "metadata": {},
   "source": [
    "# Next steps\n",
    "Continue your journey with PAIG by following these sections in the documentation link in the PAIG portal,\n",
    "- [Integrating with Langchain application](https://na.privacera.ai/docs/integration/langchain.html) \n",
    "- [Integrating with Python application](https://na.privacera.ai/docs/integration/python-applications.html)\n",
    "- [Try the Privacera SecureChat](https://na.privacera.ai/docs/integration/securechat.html)\n",
    "- [PAIG User Guide](https://na.privacera.ai/docs/user-guide/index.html)"
   ]
  }
 ],
 "metadata": {
  "colab": {
   "collapsed_sections": [
    "HcshY-SCF87R",
    "HblpCLwAOTGA",
    "faTP1gkv1ysS"
   ],
   "provenance": []
  },
  "kernelspec": {
   "display_name": "Python 3",
   "name": "python3"
  },
  "language_info": {
   "name": "python"
  }
 },
 "nbformat": 4,
 "nbformat_minor": 0
}
