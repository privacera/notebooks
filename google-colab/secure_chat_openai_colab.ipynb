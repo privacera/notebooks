{
  "cells": [
    {
      "cell_type": "markdown",
      "metadata": {
        "id": "vM6Yo7miVSEJ"
      },
      "source": [
        "<center>\n",
        "    <p style=\"text-align:center\">\n",
        "        <img width=\"500\" height=\"120\" src=\"https://paig.ai/wp-content/uploads/paig-os-header-logo.png\" alt=\"PAIG\" class=\"site-logo__image entered lazyloaded\" data-lazy-src=\"https://paig.ai/wp-content/uploads/paig-os-header-logo.png\" data-ll-status=\"loaded\">\n",
        "        <br>\n",
        "        <a href=\"https://paig.ai/\">Vist Us</a>\n",
        "        |\n",
        "        <a href=\"https://docs.paig.ai/index.html\">Docs</a>\n",
        "    </p>\n",
        "</center>\n",
        "<div width=\"100%\"> <h1 style=\"text-align:center;align-self: center\">PAIG-SecureChat</h1> </div>\n",
        "\n",
        "PAIG SecureChat is a conversational AI chat bot .\n",
        "Secure chat allows users to create  conversations with an AI chat bot which can optionally  be governed by PAIG.\n",
        "Secure chat SDK/Library provides an easy to use, plugable platform which will allow developers/users to have open source chat bot SDK.\n",
        "\n",
        "\n",
        "To run this notebook you will need the following,\n",
        "\n",
        "\n",
        "1.  Sign up for a free account at [PAIG](https://privacera.ai). This is simple, all you need is your email address.\n",
        "2.  OpenAI API Key. This will allow you to create your first OpenAI application governed by PAIG. Please visit your [OpenAI account](https://platform.openai.com) to get this key."
      ]
    },
    {
      "cell_type": "markdown",
      "metadata": {
        "id": "HcshY-SCF87R"
      },
      "source": [
        "## Step 1 - Install Dependencies\n",
        "\n",
        "Install PAIG SecureChat"
      ]
    },
    {
      "cell_type": "code",
      "execution_count": null,
      "metadata": {
        "id": "SOzmjlrfF87R"
      },
      "outputs": [],
      "source": [
        "!pip install -qqq paig-securechat --no-warn-conflicts"
      ]
    },
    {
      "cell_type": "markdown",
      "metadata": {
        "id": "faTP1gkv1ysS"
      },
      "source": [
        "## Step 2 - Set Up Your PAIG AI Application and Generate API Key\n",
        "1. Log into your account in PAIG.\n",
        "2. To create a new application, go to `Application > AI Applications` and click the `CREATE APPLICATION` button on the right top. This will open a dialog box where you can enter the details of the application.\n",
        "3. Navigate to `Application -> AI Applications` and select the application you want to generate the api key. In the `API KEYS` tab, click the `GENERATE API KEY` button in the top-right corner to generate an API key. Provide a `Name` and `Description`, along with a `Expiry`.\n",
        "\n",
        ">Note: Once the Api Key is generated, it will not be displayed again. Ensure you copy and securely store it immediately after generation.\n",
        "\n",
        "\n",
        "Enter your AI Application API key in the pop-up. This key is stored in the environment of the notebook.\n",
        "\n",
        ">Hit enter after you have pasted the key."
      ]
    },
    {
      "cell_type": "code",
      "execution_count": null,
      "metadata": {
        "id": "gQSVdAVfAJiz"
      },
      "outputs": [],
      "source": [
        "import os\n",
        "from getpass import getpass\n",
        "\n",
        "if os.environ.get(\"PAIG_API_KEY\") is None:\n",
        "    paig_api_key = getpass(\"🔑 Enter your AI Application API key and hit Enter:\")\n",
        "    os.environ[\"PAIG_API_KEY\"] = paig_api_key"
      ]
    },
    {
      "cell_type": "markdown",
      "metadata": {
        "id": "HblpCLwAOTGA"
      },
      "source": [
        "## Step 3 - Configure your OpenAI API Key into the environment.\n",
        "Enter your OpenAI API key in the text box that will appear when you run this step. After you input the key, press __ENTER__.\n",
        "\n",
        "> Note: It is important to press __ENTER__ for your value to be accepted."
      ]
    },
    {
      "cell_type": "code",
      "execution_count": null,
      "metadata": {
        "id": "zcoKMzwSlO8M"
      },
      "outputs": [],
      "source": [
        "import os\n",
        "from getpass import getpass\n",
        "\n",
        "openai_api_key = getpass(\"🔑 Enter your OpenAI API key and hit Enter:\")\n",
        "os.environ[\"OPENAI_API_KEY\"] = openai_api_key\n",
        "print(\"OpenAI key has been entered. Now validating it...\")\n",
        "\n",
        "from openai import OpenAI\n",
        "openai_model = \"gpt-4o-mini\"\n",
        "client = OpenAI(\n",
        "    api_key=os.environ.get(\"OPENAI_API_KEY\"),\n",
        ")\n",
        "\n",
        "chat_completion = client.chat.completions.create(\n",
        "    messages=[\n",
        "        {\n",
        "            \"role\": \"user\",\n",
        "            \"content\": \"Say Connected to OpenAI successfully!\",\n",
        "        }\n",
        "    ],\n",
        "    model=openai_model,\n",
        ")\n",
        "print(chat_completion.choices[0].message.content)\n",
        "print(\"If connection to OpenAI is successful, then proceed to the next step.\")"
      ]
    },
    {
      "cell_type": "markdown",
      "metadata": {
        "id": "Fkc2B_pQPLCT"
      },
      "source": [
        "## Step 4 - Launch PAIG SecureChat\n",
        "Your SecureChat will be started in the background with minimal setup. You can setup the PAIG Shield key to have a look into AI governance using PAIG."
      ]
    },
    {
      "cell_type": "code",
      "execution_count": null,
      "metadata": {
        "id": "J2GQ8Z-DPLCT"
      },
      "outputs": [],
      "source": [
        "from paig_securechat import launcher\n",
        "session = launcher.launch_app()"
      ]
    },
    {
      "cell_type": "markdown",
      "metadata": {
        "id": "vyhIGZYlQrRJ"
      },
      "source": [
        "## Step 5 - Explore PAIG SecureChat Web UI\n",
        "\n",
        "You will be served with the embedded Web-UI of PAIG SecureChat. In the Colab mode,  you will be assigned a dedicated default login user. This might take few seconds, hang on...."
      ]
    },
    {
      "cell_type": "code",
      "execution_count": null,
      "metadata": {
        "id": "1Sq_DSpUQrRK"
      },
      "outputs": [],
      "source": [
        "launcher.active_session().view(height=800)"
      ]
    },
    {
      "cell_type": "markdown",
      "metadata": {
        "id": "YJ-o7KKaAJi0"
      },
      "source": [
        "## Step 6 - Stop the SecureChat instance\n",
        "You can stop the app by running the following after you're done."
      ]
    },
    {
      "cell_type": "code",
      "execution_count": null,
      "metadata": {
        "id": "TE-U9L0IAJi0"
      },
      "outputs": [],
      "source": [
        "launcher.close_app()"
      ]
    },
    {
      "cell_type": "markdown",
      "metadata": {
        "id": "R7OLvldoAJi0"
      },
      "source": [
        "## Step 7 - Review the access audits in PAIG portal under Security menu option\n",
        "1. Now you can log in to the PAIG portal and check under `Security > Access Audits` section. You will see the audit record for the above run of your LangChain application.\n",
        "2. You can click on the eye icon and see the details of the prompts sent by the application to the LLM and the responses coming from the LLM.\n",
        "3. The default policy in PAIG for the application monitors the flow and tags the contents of the prompt and response."
      ]
    },
    {
      "cell_type": "markdown",
      "metadata": {
        "id": "QQUq_4SNAJi0"
      },
      "source": [
        "## Step 8 - Modify the policy of your AI application\n",
        "1. Log into the PAIG portal and navigate to your application under Application section.\n",
        "2. Click on the Permissions tab and enable the 'CCPA Personal Information Redaction' policy by clicking on the toggle in the status column. This will start redacting the sensitive data in the Prompt and Reply.\n",
        "3. Wait for few seconds and re-run Step 7 above. The reply will have the Location and Person name redacted, that is, replaced by `<<LOCATION>>` and `<<PERSON>>`. You can re-run Step 7 a few more times if the above is not redaction is not reflected.\n",
        "4. Then check the access audits and you will see the original response from the LLM and how PAIG redacted the sensitive information out of it.\n",
        "5. You can also modify the policy by clicking on the pencil icon and change the Prompt to Allow while keeping Reply to Redact.\n",
        "6. Wait for few seconds and re-run Step 7. In the access audits, you will see that the prompt is unchanged while the response is redacted.\n",
        "7. You can change the question in Step 7 and also try changing the policy to see the effect."
      ]
    }
  ],
  "metadata": {
    "colab": {
      "collapsed_sections": [
        "HcshY-SCF87R",
        "HblpCLwAOTGA",
        "faTP1gkv1ysS"
      ],
      "provenance": []
    },
    "kernelspec": {
      "display_name": "Python 3",
      "name": "python3"
    },
    "language_info": {
      "name": "python"
    }
  },
  "nbformat": 4,
  "nbformat_minor": 0
}
